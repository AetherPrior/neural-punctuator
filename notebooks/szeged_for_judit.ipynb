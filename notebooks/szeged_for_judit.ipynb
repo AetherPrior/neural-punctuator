{
 "cells": [
  {
   "cell_type": "code",
   "execution_count": 1,
   "metadata": {},
   "outputs": [],
   "source": [
    "import os\n",
    "\n",
    "data_path = \"D:/Data/neural-punctuator/szeged/\"\n",
    "file_path = data_path + \"szeged.txt\""
   ]
  },
  {
   "cell_type": "code",
   "execution_count": 14,
   "metadata": {},
   "outputs": [],
   "source": [
    "with open(file_path, 'r', encoding='utf-8') as f:\n",
    "    text = [t.strip() for t in f.readlines()]"
   ]
  },
  {
   "cell_type": "code",
   "execution_count": 15,
   "metadata": {},
   "outputs": [
    {
     "data": {
      "text/plain": [
       "82100"
      ]
     },
     "execution_count": 15,
     "metadata": {},
     "output_type": "execute_result"
    }
   ],
   "source": [
    "len(text)"
   ]
  },
  {
   "cell_type": "code",
   "execution_count": 16,
   "metadata": {},
   "outputs": [
    {
     "data": {
      "text/plain": [
       "80875"
      ]
     },
     "execution_count": 16,
     "metadata": {},
     "output_type": "execute_result"
    }
   ],
   "source": [
    "from collections import OrderedDict\n",
    "\n",
    "text = list(OrderedDict.fromkeys(text))\n",
    "\n",
    "len(text)"
   ]
  },
  {
   "cell_type": "code",
   "execution_count": 17,
   "metadata": {},
   "outputs": [],
   "source": [
    "tokens = [token for t in text for token in t.split(' ')]"
   ]
  },
  {
   "cell_type": "code",
   "execution_count": 18,
   "metadata": {},
   "outputs": [],
   "source": [
    "tokens = [t.lower() for t in tokens if t != '\\n']"
   ]
  },
  {
   "cell_type": "code",
   "execution_count": 19,
   "metadata": {},
   "outputs": [],
   "source": [
    "replace = {'!': '.',\n",
    "           ':': ',',\n",
    "           '--': ',',\n",
    "           '-': ','\n",
    "          }"
   ]
  },
  {
   "cell_type": "code",
   "execution_count": 20,
   "metadata": {},
   "outputs": [],
   "source": [
    "tokens = [t if t not in replace.keys() else replace[t]\n",
    "          for t in tokens ]"
   ]
  },
  {
   "cell_type": "code",
   "execution_count": 21,
   "metadata": {},
   "outputs": [],
   "source": [
    "token2target = {0: 0,\n",
    "              '.': 1, # .\n",
    "              '?': 2, # ?\n",
    "              ',': 3,  # ,\n",
    "             }"
   ]
  },
  {
   "cell_type": "code",
   "execution_count": 29,
   "metadata": {},
   "outputs": [],
   "source": [
    "def create_target(tokens):\n",
    "    targets = []\n",
    "    text = []\n",
    "\n",
    "    for word in tokens:\n",
    "        last_char = word[-1]\n",
    "        if last_char in token2target.keys():\n",
    "            target = last_char\n",
    "            targets.append(token2target[target])\n",
    "            text.append(word[:-1])\n",
    "        else:\n",
    "            targets.append(0)\n",
    "            text.append(word)\n",
    "\n",
    "    return text, targets"
   ]
  },
  {
   "cell_type": "code",
   "execution_count": 30,
   "metadata": {},
   "outputs": [
    {
     "data": {
      "text/plain": [
       "['múlt',\n",
       " 'év',\n",
       " 'szeptemberében',\n",
       " 'az',\n",
       " 'osztállyal',\n",
       " 'elmentünk',\n",
       " 'kirándulni',\n",
       " 'a',\n",
       " 'balatonra.',\n",
       " 'a',\n",
       " 'szállásunk',\n",
       " 'egy',\n",
       " 'balaton',\n",
       " 'melletti',\n",
       " 'kis',\n",
       " 'üdülőfaluban,',\n",
       " 'zamárdiban',\n",
       " 'volt,',\n",
       " 'a',\n",
       " 'postának']"
      ]
     },
     "execution_count": 30,
     "metadata": {},
     "output_type": "execute_result"
    }
   ],
   "source": [
    "tokens[:20]"
   ]
  },
  {
   "cell_type": "code",
   "execution_count": 31,
   "metadata": {},
   "outputs": [],
   "source": [
    "text, targets = create_target(tokens)"
   ]
  },
  {
   "cell_type": "code",
   "execution_count": 32,
   "metadata": {},
   "outputs": [
    {
     "data": {
      "text/plain": [
       "(1265372, 1265372)"
      ]
     },
     "execution_count": 32,
     "metadata": {},
     "output_type": "execute_result"
    }
   ],
   "source": [
    "len(text), len(targets)"
   ]
  },
  {
   "cell_type": "code",
   "execution_count": 33,
   "metadata": {},
   "outputs": [
    {
     "name": "stdout",
     "output_type": "stream",
     "text": [
      "múlt      \t 0\n",
      "év        \t 0\n",
      "szeptemberében\t 0\n",
      "az        \t 0\n",
      "osztállyal\t 0\n",
      "elmentünk \t 0\n",
      "kirándulni\t 0\n",
      "a         \t 0\n",
      "balatonra \t 1\n",
      "a         \t 0\n",
      "szállásunk\t 0\n",
      "egy       \t 0\n",
      "balaton   \t 0\n",
      "melletti  \t 0\n",
      "kis       \t 0\n",
      "üdülőfaluban\t 3\n",
      "zamárdiban\t 0\n",
      "volt      \t 3\n",
      "a         \t 0\n",
      "postának  \t 0\n"
     ]
    }
   ],
   "source": [
    "for te, ta in zip(text[:20], targets[:20]):\n",
    "    print(f'{te:10}\\t', ta)"
   ]
  },
  {
   "cell_type": "code",
   "execution_count": 34,
   "metadata": {},
   "outputs": [
    {
     "data": {
      "text/plain": [
       "[0, 0, 0, 0, 0, 0, 0, 0, 1, 0, 0, 0, 0, 0, 0, 3, 0, 3, 0, 0]"
      ]
     },
     "execution_count": 34,
     "metadata": {},
     "output_type": "execute_result"
    }
   ],
   "source": [
    "targets[:20]"
   ]
  },
  {
   "cell_type": "code",
   "execution_count": 35,
   "metadata": {},
   "outputs": [],
   "source": [
    "with open(data_path + \"szeged4judit.txt\", 'w', encoding='utf-8') as f:\n",
    "    for te, ta in zip(text, targets):\n",
    "        f.write(f'{te}\\t{ta}\\n')"
   ]
  },
  {
   "cell_type": "code",
   "execution_count": 36,
   "metadata": {},
   "outputs": [
    {
     "data": {
      "text/plain": [
       "1265372"
      ]
     },
     "execution_count": 36,
     "metadata": {},
     "output_type": "execute_result"
    }
   ],
   "source": [
    "len(text)"
   ]
  },
  {
   "cell_type": "code",
   "execution_count": null,
   "metadata": {},
   "outputs": [],
   "source": []
  }
 ],
 "metadata": {
  "kernelspec": {
   "display_name": "Python 3",
   "language": "python",
   "name": "python3"
  },
  "language_info": {
   "codemirror_mode": {
    "name": "ipython",
    "version": 3
   },
   "file_extension": ".py",
   "mimetype": "text/x-python",
   "name": "python",
   "nbconvert_exporter": "python",
   "pygments_lexer": "ipython3",
   "version": "3.8.5"
  }
 },
 "nbformat": 4,
 "nbformat_minor": 4
}
